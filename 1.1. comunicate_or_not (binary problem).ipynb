{
 "cells": [
  {
   "cell_type": "code",
   "execution_count": 1,
   "metadata": {},
   "outputs": [],
   "source": [
    "from copy import deepcopy\n",
    "import numpy as np\n",
    "import pandas as pd\n",
    "import matplotlib.pyplot as plt\n",
    "from tqdm.notebook import tqdm\n",
    "\n",
    "from sklearn.ensemble import RandomForestClassifier\n",
    "from sklearn.compose import ColumnTransformer\n",
    "from sklearn.linear_model import LogisticRegression, LinearRegression\n",
    "from sklearn.pipeline import Pipeline\n",
    "from sklearn.preprocessing import OneHotEncoder, StandardScaler\n",
    "\n",
    "from synthetic_data import UpliftDataSet"
   ]
  },
  {
   "cell_type": "markdown",
   "metadata": {},
   "source": [
    "Generate training dataset"
   ]
  },
  {
   "cell_type": "code",
   "execution_count": 2,
   "metadata": {},
   "outputs": [],
   "source": [
    "n_days = 1\n",
    "dataset = UpliftDataSet(age_min = 16,\n",
    "                       age_max = 60,\n",
    "                       n_cities = 6,\n",
    "                       n_users = 100000,\n",
    "                       share_negative_people=0.2)\n",
    "train = dataset.get_train(sorted_type_of_communication=(5,10,15), \n",
    "                          subsample_for_train=0.3,\n",
    "                          share_communicate=0.75,\n",
    "                          n_days=n_days)\n",
    "users = dataset.get_user_data"
   ]
  },
  {
   "cell_type": "markdown",
   "metadata": {},
   "source": [
    "### One model"
   ]
  },
  {
   "cell_type": "markdown",
   "metadata": {},
   "source": [
    "Treatment Dummy approach, Solo model approach, Single model approach, S-Learner (see more detail [here](https://www.uplift-modeling.com/en/latest/user_guide/models/solo_model.html))\n",
    "\n",
    "![image info](./images/one-model-approach.PNG)\n",
    "*picture was taken from  [this source](https://www.uplift-modeling.com/en/latest/user_guide/models/solo_model.html)"
   ]
  },
  {
   "cell_type": "code",
   "execution_count": 3,
   "metadata": {},
   "outputs": [],
   "source": [
    "preprocessor = ColumnTransformer(\n",
    "    transformers=[\n",
    "        (\"num\", StandardScaler(), ['day', 'age']),\n",
    "        (\"cat\", OneHotEncoder(handle_unknown=\"ignore\"), ['gender', 'city', 'communication']),\n",
    "    ]\n",
    ")\n",
    "full_model = Pipeline([('preprocessing', preprocessor),\n",
    "                       ('model', LogisticRegression())])\n",
    "\n",
    "x = train[['gender','age','city','day', 'communication']]\n",
    "y = (train['purchases'] > 0)*1\n",
    "\n",
    "model =  deepcopy(full_model).fit(x, y)"
   ]
  },
  {
   "cell_type": "markdown",
   "metadata": {},
   "source": [
    "AB test"
   ]
  },
  {
   "cell_type": "markdown",
   "metadata": {},
   "source": [
    "Final uplift will calculate like this:\n",
    "![image info](./images/one-model-approach-2.PNG)\n",
    "*picture was taken from  [this source](https://www.uplift-modeling.com/en/latest/user_guide/models/solo_model.html)\n",
    "\n",
    "or we can calculate probability of each strategy and choose the maximum one"
   ]
  },
  {
   "cell_type": "code",
   "execution_count": 4,
   "metadata": {},
   "outputs": [
    {
     "data": {
      "text/plain": [
       "test_group\n",
       "control    0.249256\n",
       "test       0.519329\n",
       "Name: purchases, dtype: float64"
      ]
     },
     "execution_count": 4,
     "metadata": {},
     "output_type": "execute_result"
    }
   ],
   "source": [
    "users['day'] = n_days + 1\n",
    "test = users.copy()\n",
    "communications = train['communication'].unique()\n",
    "\n",
    "for key in communications:\n",
    "    test['communication'] = key\n",
    "    test[key] = model.predict_proba(test[['gender','age','city','day', 'communication']])[:, 1]\n",
    "    \n",
    "col_comm = np.sort(list(communications))\n",
    "col = np.where(test[col_comm] == np.array(np.max(test[col_comm],axis=1)).reshape(-1,1))[1]\n",
    "test['communication'] = col_comm[col]\n",
    "\n",
    "test['test_group'] = np.random.choice(['test','control'], p=[0.5,0.5], size=test.shape[0])\n",
    "test.loc[test['test_group'] == 'control', 'communication'] = 0\n",
    "test['purchases'] = (dataset.check_test(test, add_purchases_value=True, check_median=60, check_std=10)>0)*1\n",
    "test.groupby('test_group')['purchases'].mean()"
   ]
  },
  {
   "cell_type": "code",
   "execution_count": 5,
   "metadata": {},
   "outputs": [
    {
     "data": {
      "text/plain": [
       "15.0    50236\n",
       "Name: communication, dtype: int64"
      ]
     },
     "execution_count": 5,
     "metadata": {},
     "output_type": "execute_result"
    }
   ],
   "source": [
    "test.loc[test['test_group'] == 'test', 'communication'].value_counts()"
   ]
  },
  {
   "cell_type": "markdown",
   "metadata": {},
   "source": [
    "### Two models"
   ]
  },
  {
   "cell_type": "markdown",
   "metadata": {},
   "source": [
    "Two models approach, T-learner, difference two models (see more details [here](https://www.uplift-modeling.com/en/latest/user_guide/models/two_models.html))\n",
    "\n",
    "\n",
    "In this situation we separate treatments and and for each group\n",
    "![image info](./images/two-model-approach.PNG)\n",
    "*picture was taken from  [this source](https://www.uplift-modeling.com/en/latest/user_guide/models/two_models.html)"
   ]
  },
  {
   "cell_type": "code",
   "execution_count": 6,
   "metadata": {
    "scrolled": true
   },
   "outputs": [
    {
     "data": {
      "application/vnd.jupyter.widget-view+json": {
       "model_id": "a27d03be4e1544c6852984039eafdbaf",
       "version_major": 2,
       "version_minor": 0
      },
      "text/plain": [
       "HBox(children=(FloatProgress(value=0.0, max=4.0), HTML(value='')))"
      ]
     },
     "metadata": {},
     "output_type": "display_data"
    },
    {
     "name": "stdout",
     "output_type": "stream",
     "text": [
      "\n"
     ]
    }
   ],
   "source": [
    "preprocessor = ColumnTransformer(\n",
    "    transformers=[\n",
    "        (\"num\", StandardScaler(), ['day', 'age']),\n",
    "        (\"cat\", OneHotEncoder(handle_unknown=\"ignore\"), ['gender', 'city']),\n",
    "    ]\n",
    ")\n",
    "full_model = Pipeline([('preprocessing', preprocessor),\n",
    "                       ('model', LogisticRegression())])\n",
    "\n",
    "model_collection = {}\n",
    "x = train[['gender','age','city','day']]\n",
    "y = (train['purchases'] > 0)*1\n",
    "for communication in tqdm(train['communication'].unique()):\n",
    "    ind = train['communication'] == communication\n",
    "    model_collection[communication] = deepcopy(full_model).fit(x[ind], y[ind])"
   ]
  },
  {
   "cell_type": "markdown",
   "metadata": {},
   "source": [
    "AB test"
   ]
  },
  {
   "cell_type": "markdown",
   "metadata": {},
   "source": [
    "In this situation uplift will calculate like this\n",
    "![image info](./images/two-model-approach-2.PNG)\n",
    "*picture was taken from  [this source](https://www.uplift-modeling.com/en/latest/user_guide/models/two_models.html)\n",
    "\n",
    "or we can calculate probability of each strategy and choose the maximum one"
   ]
  },
  {
   "cell_type": "code",
   "execution_count": 7,
   "metadata": {},
   "outputs": [
    {
     "data": {
      "text/plain": [
       "test_group\n",
       "control    0.251696\n",
       "test       0.523061\n",
       "Name: purchases, dtype: float64"
      ]
     },
     "execution_count": 7,
     "metadata": {},
     "output_type": "execute_result"
    }
   ],
   "source": [
    "users['day'] = n_days + 1\n",
    "test = users.copy()\n",
    "\n",
    "for key in model_collection.keys():\n",
    "    test[key] = model_collection[key].predict_proba(users[['gender','age','city','day']])[:, 1]\n",
    "    \n",
    "col_comm = np.sort(list(model_collection.keys()))\n",
    "col = np.where(test[col_comm] == np.array(np.max(test[col_comm],axis=1)).reshape(-1,1))[1]\n",
    "test['communication'] = col_comm[col]\n",
    "\n",
    "test['test_group'] = np.random.choice(['test','control'], p=[0.5,0.5], size=test.shape[0])\n",
    "test.loc[test['test_group'] == 'control', 'communication'] = 0\n",
    "\n",
    "test['purchases'] = (dataset.check_test(test, add_purchases_value=True, check_median=60, check_std=10)>0)*1\n",
    "test.groupby('test_group')['purchases'].mean()"
   ]
  },
  {
   "cell_type": "code",
   "execution_count": 8,
   "metadata": {},
   "outputs": [
    {
     "data": {
      "text/plain": [
       "15.0    17419\n",
       "5.0     16158\n",
       "0.0     11671\n",
       "10.0     4771\n",
       "Name: communication, dtype: int64"
      ]
     },
     "execution_count": 8,
     "metadata": {},
     "output_type": "execute_result"
    }
   ],
   "source": [
    "test.loc[test['test_group'] == 'test', 'communication'].value_counts()"
   ]
  },
  {
   "cell_type": "markdown",
   "metadata": {},
   "source": [
    "## ! For the following examples we will select communication = 5 to present how it works"
   ]
  },
  {
   "cell_type": "markdown",
   "metadata": {},
   "source": [
    "### Two models (dependant)"
   ]
  },
  {
   "cell_type": "markdown",
   "metadata": {},
   "source": [
    "Dependent Data Representation, Dependent Feature Representation (see more [here](https://www.uplift-modeling.com/en/latest/user_guide/models/two_models.html))\n",
    "\n",
    "\n",
    "![image info](./images/two-model-approach-dependant.PNG)\n",
    "*picture was taken from  [this source](https://www.uplift-modeling.com/en/latest/user_guide/models/two_models.html)"
   ]
  },
  {
   "cell_type": "code",
   "execution_count": 9,
   "metadata": {},
   "outputs": [],
   "source": [
    "preprocessor = ColumnTransformer(\n",
    "    transformers=[\n",
    "        (\"num\", StandardScaler(), ['day', 'age']),\n",
    "        (\"cat\", OneHotEncoder(handle_unknown=\"ignore\"), ['gender', 'city']),\n",
    "    ]\n",
    ")\n",
    "full_model = Pipeline([('preprocessing', preprocessor),\n",
    "                       ('model', LogisticRegression())])\n",
    "\n",
    "x_control = train.loc[train['communication'] == 0, ['gender','age','city','day']]\n",
    "y_control = (train.loc[train['communication'] == 0,'purchases'] > 0)*1\n",
    "\n",
    "# we choose only one type of treatment, but it's up to you what to do in this situation, \n",
    "# you can include 'communication' as feature to your model with treatment\n",
    "x_treat = train.loc[train['communication'] == 5, ['gender','age','city','day']]  \n",
    "y_treat = (train.loc[train['communication'] == 5, 'purchases'] > 0)*1\n",
    "\n",
    "model_control = deepcopy(full_model).fit(x_control, y_control)\n",
    "x_treat['result_from_control_model'] = model_control.predict_proba(x_treat)[:, 1]\n",
    "model_treat = deepcopy(full_model).fit(x_treat, y_treat)"
   ]
  },
  {
   "cell_type": "markdown",
   "metadata": {},
   "source": [
    "AB test"
   ]
  },
  {
   "cell_type": "markdown",
   "metadata": {},
   "source": [
    "The final predictions will look like this:\n",
    "![image info](./images/two-model-approach-dependant-2.PNG)\n",
    "*picture was taken from  [this source](https://www.uplift-modeling.com/en/latest/user_guide/models/two_models.html)"
   ]
  },
  {
   "cell_type": "code",
   "execution_count": 10,
   "metadata": {},
   "outputs": [
    {
     "data": {
      "text/plain": [
       "test_group\n",
       "control    0.249347\n",
       "test       0.492262\n",
       "Name: purchases, dtype: float64"
      ]
     },
     "execution_count": 10,
     "metadata": {},
     "output_type": "execute_result"
    }
   ],
   "source": [
    "users['day'] = n_days + 1\n",
    "test = users.copy()\n",
    "communications = train['communication'].unique()\n",
    "\n",
    "test['result_from_control_model'] = model_control.predict_proba(test[['gender','age','city','day']])[:, 1]\n",
    "test['result_from_treat_model'] = model_treat.predict_proba(test[['gender','age','city','day', \n",
    "                                                                  'result_from_control_model']])[:, 1]\n",
    "\n",
    "test['communication'] = ((test['result_from_treat_model'] - test['result_from_control_model'] ) > 0)*5\n",
    "\n",
    "\n",
    "test['test_group'] = np.random.choice(['test','control'], p=[0.5,0.5], size=test.shape[0])\n",
    "test.loc[test['test_group'] == 'control', 'communication'] = 0\n",
    "\n",
    "test['purchases'] = (dataset.check_test(test, add_purchases_value=True, check_median=60, check_std=10)>0)*1\n",
    "test.groupby('test_group')['purchases'].mean()"
   ]
  },
  {
   "cell_type": "code",
   "execution_count": 11,
   "metadata": {},
   "outputs": [
    {
     "data": {
      "text/plain": [
       "5    26476\n",
       "0    23345\n",
       "Name: communication, dtype: int64"
      ]
     },
     "execution_count": 11,
     "metadata": {},
     "output_type": "execute_result"
    }
   ],
   "source": [
    "test.loc[test['test_group'] == 'test', 'communication'].value_counts()"
   ]
  },
  {
   "cell_type": "markdown",
   "metadata": {},
   "source": [
    "### Two models (cross dependant)"
   ]
  },
  {
   "cell_type": "markdown",
   "metadata": {},
   "source": [
    "X-learner\n",
    "\n",
    "![image info](./images/two-model-approach-cross-dependant.PNG)\n",
    "![image info](./images/two-model-approach-cross-dependant-2.PNG)\n",
    "![image info](./images/two-model-approach-cross-dependant-3.PNG)\n",
    "*picture was taken from  [this source](https://habr.com/ru/companies/ru_mts/articles/485980/)"
   ]
  },
  {
   "cell_type": "code",
   "execution_count": 12,
   "metadata": {},
   "outputs": [],
   "source": [
    "preprocessor = ColumnTransformer(\n",
    "    transformers=[\n",
    "        (\"num\", StandardScaler(), ['day', 'age']),\n",
    "        (\"cat\", OneHotEncoder(handle_unknown=\"ignore\"), ['gender', 'city']),\n",
    "    ]\n",
    ")\n",
    "full_model_binar = Pipeline([('preprocessing', preprocessor),\n",
    "                       ('model', LogisticRegression())])\n",
    "full_model_nonbinar = Pipeline([('preprocessing', preprocessor),\n",
    "                       ('model', LinearRegression())])\n",
    "\n",
    "x_control = train.loc[train['communication'] == 0, ['gender','age','city','day']]\n",
    "y_control = (train.loc[train['communication'] == 0,'purchases'] > 0)*1\n",
    "\n",
    "# we choose only one type of treatment, but it's up to you what to do in this situation, \n",
    "# you can do the same operations for each type of communication and choose final communication with highest uplift\n",
    "x_treat = train.loc[train['communication'] == 5, ['gender','age','city','day']]\n",
    "y_treat = (train.loc[train['communication'] == 5, 'purchases'] > 0)*1\n",
    "\n",
    "model_control_1 = deepcopy(full_model_binar).fit(x_control, y_control)\n",
    "y_for_treat_train_control = model_control_1.predict_proba(x_treat)[:, 1]\n",
    "model_treat_1 = deepcopy(full_model_binar).fit(x_treat, y_treat)\n",
    "y_for_control_train_treat = model_treat_1.predict_proba(x_control)[:, 1]\n",
    "\n",
    "uplift_control = y_for_control_train_treat - y_control\n",
    "uplift_treat = y_treat - y_for_treat_train_control\n",
    "\n",
    "\n",
    "model_control_2 = deepcopy(full_model_nonbinar).fit(x_control, uplift_control)\n",
    "model_treat_2 = deepcopy(full_model_nonbinar).fit(x_treat, uplift_treat)"
   ]
  },
  {
   "cell_type": "markdown",
   "metadata": {},
   "source": [
    "AB test"
   ]
  },
  {
   "cell_type": "markdown",
   "metadata": {},
   "source": [
    "The final uplift wwill calculate with the following formula:\n",
    "![image info](./images/two-model-approach-cross-dependant-4.PNG)\n",
    "*picture was taken from  [this source](https://habr.com/ru/companies/ru_mts/articles/485980/)"
   ]
  },
  {
   "cell_type": "code",
   "execution_count": 13,
   "metadata": {},
   "outputs": [
    {
     "data": {
      "text/plain": [
       "test_group\n",
       "control    0.249530\n",
       "test       0.497178\n",
       "Name: purchases, dtype: float64"
      ]
     },
     "execution_count": 13,
     "metadata": {},
     "output_type": "execute_result"
    }
   ],
   "source": [
    "g = 1\n",
    "users['day'] = n_days + 1\n",
    "test = users.copy()\n",
    "\n",
    "test['communication'] = (g * (model_control_2.predict(test[['gender','age','city','day']])\n",
    "                             ) + (1-g)*(model_treat_2.predict(test[['gender','age','city','day']])) > 0 )*5\n",
    "\n",
    "test['test_group'] = np.random.choice(['test','control'], p=[0.5,0.5], size=test.shape[0])\n",
    "test.loc[test['test_group'] == 'control', 'communication'] = 0\n",
    "\n",
    "test['purchases'] = (dataset.check_test(test, add_purchases_value=True, check_median=60, check_std=10)>0)*1\n",
    "test.groupby('test_group')['purchases'].mean()"
   ]
  },
  {
   "cell_type": "code",
   "execution_count": 14,
   "metadata": {},
   "outputs": [
    {
     "data": {
      "text/plain": [
       "5    27024\n",
       "0    22934\n",
       "Name: communication, dtype: int64"
      ]
     },
     "execution_count": 14,
     "metadata": {},
     "output_type": "execute_result"
    }
   ],
   "source": [
    "test.loc[test['test_group'] == 'test', 'communication'].value_counts()"
   ]
  },
  {
   "cell_type": "markdown",
   "metadata": {},
   "source": [
    "### Class transformation "
   ]
  },
  {
   "cell_type": "markdown",
   "metadata": {},
   "source": [
    "Class Transformation approaсh, Class Variable Transformation approach, Revert Label approach (see details [here](https://www.uplift-modeling.com/en/latest/user_guide/models/revert_label.html))\n",
    "\n",
    "![image info](./images/target-transform.PNG)\n",
    "![image info](./images/target-transform-1.PNG)\n",
    "*picture was taken from  [this source](https://www.uplift-modeling.com/en/latest/user_guide/models/revert_label.html)"
   ]
  },
  {
   "cell_type": "markdown",
   "metadata": {},
   "source": [
    "##### binary only and communication type like yes/no"
   ]
  },
  {
   "cell_type": "code",
   "execution_count": 15,
   "metadata": {},
   "outputs": [],
   "source": [
    "preprocessor = ColumnTransformer(\n",
    "    transformers=[\n",
    "        (\"num\", StandardScaler(), ['day', 'age']),\n",
    "        (\"cat\", OneHotEncoder(handle_unknown=\"ignore\"), ['gender', 'city']),\n",
    "    ]\n",
    ")\n",
    "full_model = Pipeline([('preprocessing', preprocessor),\n",
    "                       ('model', LogisticRegression())])\n",
    "\n",
    "\n",
    "ind_treat = train['communication'].isin([0, 5])\n",
    "x = train.loc[ind_treat, ['gender','age','city','day']]\n",
    "y = (train.loc[ind_treat, 'purchases'] > 0) * 1\n",
    "w = (train.loc[ind_treat, 'communication'] > 0) * 1\n",
    "z = y * w + (1-y) * (1-w)\n",
    "\n",
    "model = deepcopy(full_model).fit(x, z)"
   ]
  },
  {
   "cell_type": "markdown",
   "metadata": {},
   "source": [
    "AB test"
   ]
  },
  {
   "cell_type": "markdown",
   "metadata": {},
   "source": [
    "![image info](./images/target-transform-2.PNG)\n",
    "*picture was taken from  [this source](https://www.uplift-modeling.com/en/latest/user_guide/models/revert_label.html), you can find more details about why it looks like this if you follow this link"
   ]
  },
  {
   "cell_type": "code",
   "execution_count": 16,
   "metadata": {},
   "outputs": [
    {
     "data": {
      "text/plain": [
       "test_group\n",
       "control    0.247335\n",
       "test       0.491388\n",
       "Name: purchases, dtype: float64"
      ]
     },
     "execution_count": 16,
     "metadata": {},
     "output_type": "execute_result"
    }
   ],
   "source": [
    "g = 1\n",
    "users['day'] = n_days + 1\n",
    "test = users.copy()\n",
    "\n",
    "test['uplift'] = 2*model.predict_proba(test[['gender','age','city','day']])[:, 1] - 1\n",
    "test['communication'] = (test['uplift'] > 0) * 5\n",
    "\n",
    "test['test_group'] = np.random.choice(['test','control'], p=[0.5,0.5], size=test.shape[0])\n",
    "test.loc[test['test_group'] == 'control', 'communication'] = 0\n",
    "\n",
    "test['purchases'] = (dataset.check_test(test, add_purchases_value=True, check_median=60, check_std=10)>0)*1\n",
    "test.groupby('test_group')['purchases'].mean()"
   ]
  },
  {
   "cell_type": "code",
   "execution_count": 17,
   "metadata": {},
   "outputs": [
    {
     "data": {
      "text/plain": [
       "5    26678\n",
       "0    23313\n",
       "Name: communication, dtype: int64"
      ]
     },
     "execution_count": 17,
     "metadata": {},
     "output_type": "execute_result"
    }
   ],
   "source": [
    "test.loc[test['test_group'] == 'test', 'communication'].value_counts()"
   ]
  },
  {
   "cell_type": "markdown",
   "metadata": {},
   "source": [
    "### Multi-class transformation "
   ]
  },
  {
   "cell_type": "markdown",
   "metadata": {},
   "source": [
    "Lai's Generalized Weighted Uplift Method (see more details about the method [here](https://www.kaggle.com/code/davinwijaya/why-you-should-start-using-uplift-modeling))\n",
    "![image info](./images/multiclass.PNG)\n",
    "*picture was taken from  [this source](https://www.kaggle.com/code/davinwijaya/why-you-should-start-using-uplift-modeling)"
   ]
  },
  {
   "cell_type": "markdown",
   "metadata": {},
   "source": [
    "##### binary only and communication type like yes/no"
   ]
  },
  {
   "cell_type": "code",
   "execution_count": 18,
   "metadata": {},
   "outputs": [],
   "source": [
    "preprocessor = ColumnTransformer(\n",
    "    transformers=[\n",
    "        (\"num\", StandardScaler(), ['day', 'age']),\n",
    "        (\"cat\", OneHotEncoder(handle_unknown=\"ignore\"), ['gender', 'city']),\n",
    "    ]\n",
    ")\n",
    "full_model = Pipeline([('preprocessing', preprocessor),\n",
    "                       ('model', LogisticRegression())])\n",
    "\n",
    "\n",
    "ind_treat = train['communication'].isin([0, 5])\n",
    "x = train.loc[ind_treat, ['gender','age','city','day']]\n",
    "y = (train.loc[ind_treat, 'purchases'] > 0) * 1\n",
    "w = (train.loc[ind_treat, 'communication'] > 0) * 1\n",
    "\n",
    "y_ = pd.Series('', index=y.index)\n",
    "y_[(w == 0) & (y == 0)] = 'CN'\n",
    "y_[(w == 0) & (y == 1)] = 'CR'\n",
    "y_[(w == 1) & (y == 0)] = 'TN'\n",
    "y_[(w == 1) & (y == 1)] = 'TR'\n",
    "\n",
    "model = deepcopy(full_model).fit(x, y_)"
   ]
  },
  {
   "cell_type": "markdown",
   "metadata": {},
   "source": [
    "AB test"
   ]
  },
  {
   "cell_type": "markdown",
   "metadata": {},
   "source": [
    "![image info](./images/multiclass-2.PNG)\n",
    "*picture was taken from  [this source](https://www.kaggle.com/code/davinwijaya/why-you-should-start-using-uplift-modeling), you can find more details about why it looks like this if you follow this link"
   ]
  },
  {
   "cell_type": "code",
   "execution_count": 19,
   "metadata": {},
   "outputs": [
    {
     "data": {
      "text/plain": [
       "test_group\n",
       "control    0.250837\n",
       "test       0.494517\n",
       "Name: purchases, dtype: float64"
      ]
     },
     "execution_count": 19,
     "metadata": {},
     "output_type": "execute_result"
    }
   ],
   "source": [
    "g = 1\n",
    "users['day'] = n_days + 1\n",
    "test = users.copy()\n",
    "\n",
    "res_classes = pd.DataFrame(model.predict_proba(test[['gender','age','city','day']]), \n",
    "                           columns=model.classes_, index=test.index)\n",
    "r_T = np.sum(w)/w.shape[0]\n",
    "r_C = np.sum(1-w)/w.shape[0]\n",
    "test['uplift'] = (res_classes['TR']/r_T + res_classes['CN']/r_C) - (res_classes['TN']/r_T + res_classes['CR']/r_C)\n",
    "\n",
    "test['communication'] = (test['uplift'] > 0)*5\n",
    "\n",
    "test['test_group'] = np.random.choice(['test','control'], p=[0.5,0.5], size=test.shape[0])\n",
    "test.loc[test['test_group'] == 'control', 'communication'] = 0\n",
    "\n",
    "test['purchases'] = (dataset.check_test(test, add_purchases_value=True, check_median=60, check_std=10)>0)*1\n",
    "test.groupby('test_group')['purchases'].mean()"
   ]
  },
  {
   "cell_type": "code",
   "execution_count": 20,
   "metadata": {},
   "outputs": [
    {
     "data": {
      "text/plain": [
       "5    26634\n",
       "0    23158\n",
       "Name: communication, dtype: int64"
      ]
     },
     "execution_count": 20,
     "metadata": {},
     "output_type": "execute_result"
    }
   ],
   "source": [
    "test.loc[test['test_group'] == 'test', 'communication'].value_counts()"
   ]
  },
  {
   "cell_type": "code",
   "execution_count": null,
   "metadata": {},
   "outputs": [],
   "source": []
  }
 ],
 "metadata": {
  "kernelspec": {
   "display_name": "Python 3",
   "language": "python",
   "name": "python3"
  },
  "language_info": {
   "codemirror_mode": {
    "name": "ipython",
    "version": 3
   },
   "file_extension": ".py",
   "mimetype": "text/x-python",
   "name": "python",
   "nbconvert_exporter": "python",
   "pygments_lexer": "ipython3",
   "version": "3.8.3"
  }
 },
 "nbformat": 4,
 "nbformat_minor": 4
}
