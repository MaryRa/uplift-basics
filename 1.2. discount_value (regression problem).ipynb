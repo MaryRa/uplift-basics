{
 "cells": [
  {
   "cell_type": "code",
   "execution_count": 1,
   "metadata": {},
   "outputs": [],
   "source": [
    "from copy import deepcopy\n",
    "import numpy as np\n",
    "import pandas as pd\n",
    "import matplotlib.pyplot as plt\n",
    "from tqdm.notebook import tqdm\n",
    "\n",
    "from sklearn.ensemble import RandomForestClassifier\n",
    "from sklearn.compose import ColumnTransformer\n",
    "from sklearn.linear_model import LogisticRegression, LinearRegression\n",
    "from sklearn.pipeline import Pipeline\n",
    "from sklearn.preprocessing import OneHotEncoder, StandardScaler\n",
    "\n",
    "from synthetic_data import UpliftDataSet"
   ]
  },
  {
   "cell_type": "markdown",
   "metadata": {},
   "source": [
    "Generate training dataset"
   ]
  },
  {
   "cell_type": "code",
   "execution_count": 2,
   "metadata": {},
   "outputs": [],
   "source": [
    "n_days = 1\n",
    "dataset = UpliftDataSet(age_min = 16,\n",
    "                        age_max = 60,\n",
    "                        n_cities = 6,\n",
    "                        n_users = 100000,\n",
    "                        share_negative_people=0.2)\n",
    "train = dataset.get_train(sorted_type_of_communication=(5,10,15), \n",
    "                          subsample_for_train=0.3,\n",
    "                          share_communicate=0.75,\n",
    "                          n_days=n_days)\n",
    "users = dataset.get_user_data"
   ]
  },
  {
   "cell_type": "markdown",
   "metadata": {},
   "source": [
    "### One model"
   ]
  },
  {
   "cell_type": "markdown",
   "metadata": {},
   "source": [
    "Treatment Dummy approach, Solo model approach, Single model approach, S-Learner (see more detail [here](https://www.uplift-modeling.com/en/latest/user_guide/models/solo_model.html))\n",
    "\n",
    "![image info](./images/one-model-approach.PNG)\n",
    "*picture was taken from  [this source](https://www.uplift-modeling.com/en/latest/user_guide/models/solo_model.html)"
   ]
  },
  {
   "cell_type": "code",
   "execution_count": 3,
   "metadata": {},
   "outputs": [],
   "source": [
    "preprocessor = ColumnTransformer(\n",
    "    transformers=[\n",
    "        (\"num\", StandardScaler(), ['day', 'age']),\n",
    "        (\"cat\", OneHotEncoder(handle_unknown=\"ignore\"), ['gender', 'city', 'communication']),\n",
    "    ]\n",
    ")\n",
    "full_model = Pipeline([('preprocessing', preprocessor),\n",
    "                       ('model', LinearRegression())])\n",
    "\n",
    "x = train[['gender','age','city','day', 'communication']]\n",
    "y = train['purchases']\n",
    "\n",
    "model =  deepcopy(full_model).fit(x, y)"
   ]
  },
  {
   "cell_type": "markdown",
   "metadata": {},
   "source": [
    "AB test"
   ]
  },
  {
   "cell_type": "markdown",
   "metadata": {},
   "source": [
    "Final uplift will calculate like this:\n",
    "![image info](./images/one-model-approach-2.PNG)\n",
    "*picture was taken from  [this source](https://www.uplift-modeling.com/en/latest/user_guide/models/solo_model.html)\n",
    "\n",
    "or we can calculate probability of each strategy and choose the maximum one"
   ]
  },
  {
   "cell_type": "code",
   "execution_count": 4,
   "metadata": {},
   "outputs": [
    {
     "data": {
      "text/plain": [
       "test_group\n",
       "control    15.094594\n",
       "test       15.269744\n",
       "Name: net_income, dtype: float64"
      ]
     },
     "execution_count": 4,
     "metadata": {},
     "output_type": "execute_result"
    }
   ],
   "source": [
    "users['day'] = n_days + 1\n",
    "test = users.copy()\n",
    "communications = train['communication'].unique()\n",
    "\n",
    "for key in communications:\n",
    "    test['communication'] = key\n",
    "    test[key] = model.predict(test[['gender','age','city','day', 'communication']]) *(1-test['communication']/100)\n",
    "    \n",
    "col_comm = np.sort(list(communications))\n",
    "max_vals_ind = np.where(test[col_comm] == np.array(np.max(test[col_comm],axis=1)).reshape(-1,1))\n",
    "_, un = np.unique(max_vals_ind[0], return_index=True)\n",
    "col = max_vals_ind[1][un]\n",
    "test['communication'] = col_comm[col]\n",
    "\n",
    "test['test_group'] = np.random.choice(['test','control'], p=[0.5,0.5], size=test.shape[0])\n",
    "test.loc[test['test_group'] == 'control', 'communication'] = 0\n",
    "\n",
    "test['purchases'] = dataset.check_test(test, add_purchases_value=True, check_median=60, check_std=10)\n",
    "test['net_income'] = test['purchases'] *(1-test['communication']/100)\n",
    "test.groupby('test_group')['net_income'].mean()"
   ]
  },
  {
   "cell_type": "code",
   "execution_count": 5,
   "metadata": {},
   "outputs": [
    {
     "data": {
      "text/plain": [
       "15.0    49844\n",
       "0.0        48\n",
       "Name: communication, dtype: int64"
      ]
     },
     "execution_count": 5,
     "metadata": {},
     "output_type": "execute_result"
    }
   ],
   "source": [
    "test.loc[test['test_group'] == 'test', 'communication'].value_counts()"
   ]
  },
  {
   "cell_type": "markdown",
   "metadata": {},
   "source": [
    "### Two models"
   ]
  },
  {
   "cell_type": "markdown",
   "metadata": {},
   "source": [
    "Two models approach, T-learner, difference two models (see more details [here](https://www.uplift-modeling.com/en/latest/user_guide/models/two_models.html))\n",
    "\n",
    "\n",
    "In this situation we separate treatments and and for each group\n",
    "![image info](./images/two-model-approach.PNG)\n",
    "*picture was taken from  [this source](https://www.uplift-modeling.com/en/latest/user_guide/models/two_models.html)"
   ]
  },
  {
   "cell_type": "code",
   "execution_count": 6,
   "metadata": {},
   "outputs": [
    {
     "data": {
      "application/vnd.jupyter.widget-view+json": {
       "model_id": "d90d515aa120418981477f19f4589171",
       "version_major": 2,
       "version_minor": 0
      },
      "text/plain": [
       "HBox(children=(FloatProgress(value=0.0, max=4.0), HTML(value='')))"
      ]
     },
     "metadata": {},
     "output_type": "display_data"
    },
    {
     "name": "stdout",
     "output_type": "stream",
     "text": [
      "\n"
     ]
    }
   ],
   "source": [
    "preprocessor = ColumnTransformer(\n",
    "    transformers=[\n",
    "        (\"num\", StandardScaler(), ['day', 'age']),\n",
    "        (\"cat\", OneHotEncoder(handle_unknown=\"ignore\"), ['gender', 'city']),\n",
    "    ]\n",
    ")\n",
    "full_model = Pipeline([('preprocessing', preprocessor),\n",
    "                       ('model', LinearRegression())])\n",
    "\n",
    "model_collection = {}\n",
    "x = train[['gender','age','city','day']]\n",
    "y = train['purchases']\n",
    "for communication in tqdm(train['communication'].unique()):\n",
    "    ind = train['communication'] == communication\n",
    "    model_collection[communication] = deepcopy(full_model).fit(x[ind], y[ind])"
   ]
  },
  {
   "cell_type": "markdown",
   "metadata": {},
   "source": [
    "AB test"
   ]
  },
  {
   "cell_type": "markdown",
   "metadata": {},
   "source": [
    "In this situation uplift will calculate like this\n",
    "![image info](./images/two-model-approach-2.PNG)\n",
    "*picture was taken from  [this source](https://www.uplift-modeling.com/en/latest/user_guide/models/two_models.html)\n",
    "\n",
    "or we can calculate probability of each strategy and choose the maximum one"
   ]
  },
  {
   "cell_type": "code",
   "execution_count": 7,
   "metadata": {},
   "outputs": [
    {
     "data": {
      "text/plain": [
       "test_group\n",
       "control    15.109771\n",
       "test       17.704993\n",
       "Name: net_income, dtype: float64"
      ]
     },
     "execution_count": 7,
     "metadata": {},
     "output_type": "execute_result"
    }
   ],
   "source": [
    "users['day'] = n_days + 1\n",
    "test = users.copy()\n",
    "\n",
    "for key in model_collection.keys():\n",
    "    test[key] = model_collection[key].predict(users[['gender','age','city','day']])*(1-key/100)\n",
    "    \n",
    "col_comm = np.sort(list(model_collection.keys()))\n",
    "col = np.where(test[col_comm] == np.array(np.max(test[col_comm],axis=1)).reshape(-1,1))[1]\n",
    "test['communication'] = col_comm[col]\n",
    "\n",
    "test['test_group'] = np.random.choice(['test','control'], p=[0.5,0.5], size=test.shape[0])\n",
    "test.loc[test['test_group'] == 'control', 'communication'] = 0\n",
    "\n",
    "test['purchases'] = dataset.check_test(test, add_purchases_value=True, check_median=60, check_std=10)\n",
    "test['net_income'] = test['purchases'] *(1-test['communication']/100)\n",
    "test.groupby('test_group')['net_income'].mean()"
   ]
  },
  {
   "cell_type": "code",
   "execution_count": 8,
   "metadata": {},
   "outputs": [
    {
     "data": {
      "text/plain": [
       "0.0     20962\n",
       "15.0    15078\n",
       "10.0    13959\n",
       "Name: communication, dtype: int64"
      ]
     },
     "execution_count": 8,
     "metadata": {},
     "output_type": "execute_result"
    }
   ],
   "source": [
    "test.loc[test['test_group'] == 'test', 'communication'].value_counts()"
   ]
  },
  {
   "cell_type": "markdown",
   "metadata": {},
   "source": [
    "## ! For the following examples we will select communication = 5 to present how it works"
   ]
  },
  {
   "cell_type": "markdown",
   "metadata": {},
   "source": [
    "### Two models (dependant)"
   ]
  },
  {
   "cell_type": "markdown",
   "metadata": {},
   "source": [
    "Dependent Data Representation, Dependent Feature Representation (see more [here](https://www.uplift-modeling.com/en/latest/user_guide/models/two_models.html))\n",
    "\n",
    "\n",
    "![image info](./images/two-model-approach-dependant.PNG)\n",
    "*picture was taken from  [this source](https://www.uplift-modeling.com/en/latest/user_guide/models/two_models.html)"
   ]
  },
  {
   "cell_type": "code",
   "execution_count": 9,
   "metadata": {},
   "outputs": [],
   "source": [
    "preprocessor = ColumnTransformer(\n",
    "    transformers=[\n",
    "        (\"num\", StandardScaler(), ['day', 'age']),\n",
    "        (\"cat\", OneHotEncoder(handle_unknown=\"ignore\"), ['gender', 'city']),\n",
    "    ]\n",
    ")\n",
    "full_model = Pipeline([('preprocessing', preprocessor),\n",
    "                       ('model', LinearRegression())])\n",
    "\n",
    "ind_control = train['communication'] == 0\n",
    "x_control = train.loc[ind_control, ['gender','age','city','day']]\n",
    "y_control = train.loc[ind_control, 'purchases']\n",
    "\n",
    "# we choose only one type of treatment, but it's up to you what to do in this situation, \n",
    "# you can include 'communication' as feature to your model with treatment\n",
    "ind_treat = train['communication'] == 5\n",
    "x_treat = train.loc[ind_treat, ['gender','age','city','day']]\n",
    "y_treat = train.loc[ind_treat, 'purchases']\n",
    "\n",
    "model_control = deepcopy(full_model).fit(x_control, y_control)\n",
    "x_treat['result_from_control_model'] = model_control.predict(x_treat)\n",
    "model_treat = deepcopy(full_model).fit(x_treat, y_treat)"
   ]
  },
  {
   "cell_type": "markdown",
   "metadata": {},
   "source": [
    "AB test"
   ]
  },
  {
   "cell_type": "markdown",
   "metadata": {},
   "source": [
    "The final predictions will look like this:\n",
    "![image info](./images/two-model-approach-dependant-2.PNG)\n",
    "*picture was taken from  [this source](https://www.uplift-modeling.com/en/latest/user_guide/models/two_models.html)"
   ]
  },
  {
   "cell_type": "code",
   "execution_count": 10,
   "metadata": {},
   "outputs": [
    {
     "data": {
      "text/plain": [
       "test_group\n",
       "control    15.198776\n",
       "test       15.360468\n",
       "Name: net_income, dtype: float64"
      ]
     },
     "execution_count": 10,
     "metadata": {},
     "output_type": "execute_result"
    }
   ],
   "source": [
    "users['day'] = n_days + 1\n",
    "test = users.copy()\n",
    "communications = train['communication'].unique()\n",
    "\n",
    "test['result_from_control_model'] = model_control.predict(test[['gender','age','city','day']])\n",
    "test['result_from_treat_model'] = model_treat.predict(test[['gender','age','city','day', \n",
    "                                                             'result_from_control_model']])*(1-5/100)\n",
    "\n",
    "test['communication'] = ((test['result_from_treat_model'] - test['result_from_control_model'] ) > 0)*5\n",
    "\n",
    "test['test_group'] = np.random.choice(['test','control'], p=[0.5,0.5], size=test.shape[0])\n",
    "test.loc[test['test_group'] == 'control', 'communication'] = 0\n",
    "\n",
    "test['purchases'] = dataset.check_test(test, add_purchases_value=True, check_median=60, check_std=10)\n",
    "test['net_income'] = test['purchases'] *(1-test['communication']/100)\n",
    "test.groupby('test_group')['net_income'].mean()"
   ]
  },
  {
   "cell_type": "code",
   "execution_count": 11,
   "metadata": {},
   "outputs": [
    {
     "data": {
      "text/plain": [
       "0    47858\n",
       "5     2262\n",
       "Name: communication, dtype: int64"
      ]
     },
     "execution_count": 11,
     "metadata": {},
     "output_type": "execute_result"
    }
   ],
   "source": [
    "test.loc[test['test_group'] == 'test', 'communication'].value_counts()"
   ]
  },
  {
   "cell_type": "markdown",
   "metadata": {},
   "source": [
    "### Two models (cross dependant)"
   ]
  },
  {
   "cell_type": "markdown",
   "metadata": {},
   "source": [
    "X-learner\n",
    "\n",
    "![image info](./images/two-model-approach-cross-dependant.PNG)\n",
    "![image info](./images/two-model-approach-cross-dependant-2.PNG)\n",
    "![image info](./images/two-model-approach-cross-dependant-3.PNG)\n",
    "*picture was taken from  [this source](https://habr.com/ru/companies/ru_mts/articles/485980/)"
   ]
  },
  {
   "cell_type": "code",
   "execution_count": 12,
   "metadata": {},
   "outputs": [],
   "source": [
    "preprocessor = ColumnTransformer(\n",
    "    transformers=[\n",
    "        (\"num\", StandardScaler(), ['day', 'age']),\n",
    "        (\"cat\", OneHotEncoder(handle_unknown=\"ignore\"), ['gender', 'city']),\n",
    "    ]\n",
    ")\n",
    "full_model = Pipeline([('preprocessing', preprocessor),\n",
    "                       ('model', LinearRegression())])\n",
    "\n",
    "ind_control = train['communication'] == 0\n",
    "x_control = train.loc[ind_control, ['gender','age','city','day']]\n",
    "y_control = train.loc[ind_control, 'purchases']\n",
    "\n",
    "# we choose only one type of treatment, but it's up to you what to do in this situation, \n",
    "# you can include 'communication' as feature to your model with treatment\n",
    "ind_treat = train['communication'] == 5\n",
    "x_treat = train.loc[ind_treat, ['gender','age','city','day']]\n",
    "y_treat = train.loc[ind_treat, 'purchases']\n",
    "\n",
    "model_control_1 = deepcopy(full_model).fit(x_control, y_control)\n",
    "y_for_treat_train_control = model_control_1.predict(x_treat)\n",
    "model_treat_1 = deepcopy(full_model).fit(x_treat, y_treat)\n",
    "y_for_control_train_treat = model_treat_1.predict(x_control)\n",
    "\n",
    "uplift_control = y_for_control_train_treat * (1-5/100) - y_control\n",
    "uplift_treat = y_treat * (1-5/100) - y_for_treat_train_control\n",
    "\n",
    "\n",
    "model_control_2 = deepcopy(full_model).fit(x_control, uplift_control)\n",
    "model_treat_2 = deepcopy(full_model).fit(x_treat, uplift_treat)"
   ]
  },
  {
   "cell_type": "markdown",
   "metadata": {},
   "source": [
    "AB test"
   ]
  },
  {
   "cell_type": "markdown",
   "metadata": {},
   "source": [
    "The final uplift wwill calculate with the following formula:\n",
    "![image info](./images/two-model-approach-cross-dependant-4.PNG)\n",
    "*picture was taken from  [this source](https://habr.com/ru/companies/ru_mts/articles/485980/)"
   ]
  },
  {
   "cell_type": "code",
   "execution_count": 13,
   "metadata": {},
   "outputs": [
    {
     "data": {
      "text/plain": [
       "test_group\n",
       "control    15.273787\n",
       "test       15.397655\n",
       "Name: net_income, dtype: float64"
      ]
     },
     "execution_count": 13,
     "metadata": {},
     "output_type": "execute_result"
    }
   ],
   "source": [
    "g = 1\n",
    "users['day'] = n_days + 1\n",
    "test = users.copy()\n",
    "\n",
    "test['communication'] = (g * (model_control_2.predict(test[['gender','age','city','day']])\n",
    "                             ) + (1-g)*(model_treat_2.predict(test[['gender','age','city','day']])) > 0 )*5\n",
    "\n",
    "test['test_group'] = np.random.choice(['test','control'], p=[0.5,0.5], size=test.shape[0])\n",
    "test.loc[test['test_group'] == 'control', 'communication'] = 0\n",
    "\n",
    "test['purchases'] = dataset.check_test(test, add_purchases_value=True, check_median=60, check_std=10)\n",
    "test['net_income'] = test['purchases'] *(1-test['communication']/100)\n",
    "test.groupby('test_group')['net_income'].mean()"
   ]
  },
  {
   "cell_type": "code",
   "execution_count": 14,
   "metadata": {},
   "outputs": [
    {
     "data": {
      "text/plain": [
       "0    47810\n",
       "5     2336\n",
       "Name: communication, dtype: int64"
      ]
     },
     "execution_count": 14,
     "metadata": {},
     "output_type": "execute_result"
    }
   ],
   "source": [
    "test.loc[test['test_group'] == 'test', 'communication'].value_counts()"
   ]
  },
  {
   "cell_type": "markdown",
   "metadata": {},
   "source": [
    "### Class transformation "
   ]
  },
  {
   "cell_type": "markdown",
   "metadata": {},
   "source": [
    "Class Transformation approaсh, Class Variable Transformation approach, Revert Label approach (see details [here](https://www.uplift-modeling.com/en/latest/user_guide/models/revert_label.html))\n",
    "\n",
    "![image info](./images/target-transform.PNG)\n",
    "![image info](./images/target-transform-1.PNG)\n",
    "*picture was taken from  [this source](https://www.uplift-modeling.com/en/latest/user_guide/models/revert_label.html)"
   ]
  },
  {
   "cell_type": "markdown",
   "metadata": {},
   "source": [
    "##### non-binary and communication type like yes/no"
   ]
  },
  {
   "cell_type": "code",
   "execution_count": 15,
   "metadata": {},
   "outputs": [],
   "source": [
    "preprocessor = ColumnTransformer(\n",
    "    transformers=[\n",
    "        (\"num\", StandardScaler(), ['day', 'age']),\n",
    "        (\"cat\", OneHotEncoder(handle_unknown=\"ignore\"), ['gender', 'city']),\n",
    "    ]\n",
    ")\n",
    "full_model = Pipeline([('preprocessing', preprocessor),\n",
    "                       ('model', LinearRegression())])\n",
    "\n",
    "ind_treat = train['communication'].isin([0, 5])\n",
    "x = train.loc[ind_treat, ['gender','age','city','day']]\n",
    "y = train.loc[ind_treat, 'purchases'] * (1-train.loc[ind_treat,'communication']/100)\n",
    "# you can use binary target\n",
    "w = (train.loc[ind_treat, 'communication'] > 0) * 1\n",
    "p = np.sum(w)/w.shape[0]\n",
    "\n",
    "z = y * (w-p)/(p*(1-p))\n",
    "\n",
    "model = deepcopy(full_model).fit(x, z)"
   ]
  },
  {
   "cell_type": "markdown",
   "metadata": {},
   "source": [
    "AB test"
   ]
  },
  {
   "cell_type": "markdown",
   "metadata": {},
   "source": [
    "![image info](./images/target-transform-2.PNG)\n",
    "*picture was taken from  [this source](https://www.uplift-modeling.com/en/latest/user_guide/models/revert_label.html), you can find more details about why it looks like this if you follow this link"
   ]
  },
  {
   "cell_type": "code",
   "execution_count": 16,
   "metadata": {},
   "outputs": [
    {
     "data": {
      "text/plain": [
       "test_group\n",
       "control    15.282697\n",
       "test       14.969160\n",
       "Name: net_income, dtype: float64"
      ]
     },
     "execution_count": 16,
     "metadata": {},
     "output_type": "execute_result"
    }
   ],
   "source": [
    "g = 1\n",
    "users['day'] = n_days + 1\n",
    "test = users.copy()\n",
    "\n",
    "test['uplift'] = model.predict(test[['gender','age','city','day']])\n",
    "test['communication'] = (test['uplift'] > 0) * 5\n",
    "\n",
    "test['test_group'] = np.random.choice(['test','control'], p=[0.5,0.5], size=test.shape[0])\n",
    "test.loc[test['test_group'] == 'control', 'communication'] = 0\n",
    "\n",
    "test['purchases'] = dataset.check_test(test, add_purchases_value=True, check_median=60, check_std=10)\n",
    "test['net_income'] = test['purchases'] *(1-test['communication']/100)\n",
    "test.groupby('test_group')['net_income'].mean()"
   ]
  },
  {
   "cell_type": "code",
   "execution_count": 17,
   "metadata": {},
   "outputs": [
    {
     "data": {
      "text/plain": [
       "0    47240\n",
       "5     2533\n",
       "Name: communication, dtype: int64"
      ]
     },
     "execution_count": 17,
     "metadata": {},
     "output_type": "execute_result"
    }
   ],
   "source": [
    "test.loc[test['test_group'] == 'test', 'communication'].value_counts()"
   ]
  },
  {
   "cell_type": "code",
   "execution_count": null,
   "metadata": {},
   "outputs": [],
   "source": []
  }
 ],
 "metadata": {
  "kernelspec": {
   "display_name": "Python 3",
   "language": "python",
   "name": "python3"
  },
  "language_info": {
   "codemirror_mode": {
    "name": "ipython",
    "version": 3
   },
   "file_extension": ".py",
   "mimetype": "text/x-python",
   "name": "python",
   "nbconvert_exporter": "python",
   "pygments_lexer": "ipython3",
   "version": "3.8.3"
  }
 },
 "nbformat": 4,
 "nbformat_minor": 4
}
