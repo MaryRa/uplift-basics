{
 "cells": [
  {
   "cell_type": "code",
   "execution_count": 47,
   "metadata": {},
   "outputs": [],
   "source": [
    "from copy import deepcopy\n",
    "import numpy as np\n",
    "import pandas as pd\n",
    "import matplotlib.pyplot as plt\n",
    "from tqdm.notebook import tqdm\n",
    "\n",
    "from sklearn.ensemble import RandomForestClassifier\n",
    "from sklearn.compose import ColumnTransformer\n",
    "from sklearn.linear_model import LogisticRegression, LinearRegression\n",
    "from sklearn.pipeline import Pipeline\n",
    "from sklearn.preprocessing import OneHotEncoder, StandardScaler\n",
    "from sklearn.model_selection import train_test_split\n",
    "\n",
    "from synthetic_data import UpliftDataSet"
   ]
  },
  {
   "cell_type": "code",
   "execution_count": 48,
   "metadata": {},
   "outputs": [],
   "source": [
    "dataset = UpliftDataSet(age_min = 16,\n",
    "                        age_max = 60,\n",
    "                        n_cities = 6,\n",
    "                        n_users = 100000,\n",
    "                        share_negative_people=0.01)\n",
    "data_from_experiment = dataset.get_train(sorted_type_of_communication=(5,10,15), \n",
    "                                         subsample_for_train=0.3,\n",
    "                                         share_communicate=0.75,\n",
    "                                         n_days = 1)\n",
    "train, valid = train_test_split(data_from_experiment, test_size=0.3, \n",
    "                                shuffle=True, stratify=data_from_experiment[\"communication\"])\n",
    "users = dataset.get_user_data"
   ]
  },
  {
   "cell_type": "markdown",
   "metadata": {},
   "source": [
    "### Two models"
   ]
  },
  {
   "cell_type": "code",
   "execution_count": 49,
   "metadata": {},
   "outputs": [],
   "source": [
    "preprocessor = ColumnTransformer(\n",
    "    transformers=[\n",
    "        (\"num\", StandardScaler(), ['day', 'age']),\n",
    "        (\"cat\", OneHotEncoder(handle_unknown=\"ignore\"), ['gender', 'city', 'communication']),\n",
    "    ]\n",
    ")\n",
    "full_model = Pipeline([('preprocessing', preprocessor),\n",
    "                       ('model', LinearRegression())])\n",
    "\n",
    "x = train[['gender','age','city','day', 'communication']]\n",
    "y = train['purchases']\n",
    "\n",
    "model =  deepcopy(full_model).fit(x, y)"
   ]
  },
  {
   "cell_type": "markdown",
   "metadata": {},
   "source": [
    "### Metrics"
   ]
  },
  {
   "cell_type": "markdown",
   "metadata": {},
   "source": [
    "##### uplift@k"
   ]
  },
  {
   "cell_type": "code",
   "execution_count": 50,
   "metadata": {},
   "outputs": [
    {
     "data": {
      "text/plain": [
       "{15.0: 22.66206754511785, 5.0: 53.053359620146296, 10.0: 119.17549807278786}"
      ]
     },
     "execution_count": 50,
     "metadata": {},
     "output_type": "execute_result"
    }
   ],
   "source": [
    "k = 10\n",
    "\n",
    "valid_ = valid.copy()\n",
    "valid_['purchases'] = valid_['purchases']*(1-valid_['communication']/100)\n",
    "communications = train['communication'].unique()\n",
    "true_communication = valid_['communication'].copy()\n",
    "for key in communications:\n",
    "    valid_['communication'] = key\n",
    "    valid_[key] = model.predict(valid_[['gender','age','city','day', 'communication']])*(1-key/100)\n",
    "valid_['communication'] = true_communication\n",
    "\n",
    "uplift_metric = {}\n",
    "for key in [x for x in communications if x != 0]:\n",
    "    valid_[key] = valid_[key] - valid_[0]\n",
    "    sorted_values = valid_[valid_['communication'] == key].sort_values(key, ascending=False)\n",
    "    sorted_values_0 = valid_[valid_['communication'] == 0].sort_values(key, ascending=False)\n",
    "    uplift_metric[key] = sorted_values['purchases'].head(k).sum() - sorted_values_0['purchases'].head(k).sum()\n",
    "uplift_metric"
   ]
  },
  {
   "cell_type": "markdown",
   "metadata": {},
   "source": [
    "##### uplift by percentile (or uplift by bin, uplift by decile)"
   ]
  },
  {
   "cell_type": "code",
   "execution_count": 51,
   "metadata": {},
   "outputs": [
    {
     "data": {
      "image/png": "[encoded data removed]",
      "text/plain": [
       "<Figure size 432x288 with 1 Axes>"
      ]
     },
     "metadata": {
      "needs_background": "light"
     },
     "output_type": "display_data"
    },
    {
     "data": {
      "image/png": "[encoded data removed]",
      "text/plain": [
       "<Figure size 432x288 with 1 Axes>"
      ]
     },
     "metadata": {
      "needs_background": "light"
     },
     "output_type": "display_data"
    },
    {
     "data": {
      "image/png": "[encoded data removed]",
      "text/plain": [
       "<Figure size 432x288 with 1 Axes>"
      ]
     },
     "metadata": {
      "needs_background": "light"
     },
     "output_type": "display_data"
    }
   ],
   "source": [
    "valid_ = valid.copy()\n",
    "valid_['purchases'] = valid_['purchases']*(1-valid_['communication']/100)\n",
    "communications = train['communication'].unique()\n",
    "for key in communications:\n",
    "    valid_[key] = model.predict(valid_[['gender','age','city','day', 'communication']])*(1-key/100)\n",
    "    \n",
    "    if key != 0:\n",
    "        sabsample = valid_[valid_['communication'].isin([0, key])]\n",
    "        percentiles_value = sabsample[key].quantile(np.linspace(0,1,11))\n",
    "        # if there are percentiles with the same value, we have to collapse them\n",
    "        percentiles_value = percentiles_value[percentiles_value != percentiles_value.shift()]\n",
    "        # let's generate names\n",
    "        percentile_names = [f\"{x*100:.0f}\".zfill(2) for x in percentiles_value.index]\n",
    "        percentile_names = [x + '-' + y for x, y in zip(percentile_names[:-1], percentile_names[1:])]\n",
    "        valid_[f\"{key} bin\"] = pd.cut(valid_[key], bins=percentiles_value, \n",
    "                               include_lowest=True, labels=percentile_names[::-1]).astype(str)\n",
    "for key in [x for x in communications if x != 0]:\n",
    "    vals = (valid_[valid_['communication'] == key].groupby(f\"{key} bin\")['purchases'].mean() \n",
    "            - valid_[valid_['communication'] == 0].groupby(f\"{key} bin\")['purchases'].mean()\n",
    "           ).sort_index()\n",
    "\n",
    "    plt.bar(vals.index, vals)\n",
    "    plt.show()"
   ]
  },
  {
   "cell_type": "markdown",
   "metadata": {},
   "source": [
    "### to be continued..."
   ]
  },
  {
   "cell_type": "code",
   "execution_count": null,
   "metadata": {},
   "outputs": [],
   "source": []
  }
 ],
 "metadata": {
  "kernelspec": {
   "display_name": "Python 3",
   "language": "python",
   "name": "python3"
  },
  "language_info": {
   "codemirror_mode": {
    "name": "ipython",
    "version": 3
   },
   "file_extension": ".py",
   "mimetype": "text/x-python",
   "name": "python",
   "nbconvert_exporter": "python",
   "pygments_lexer": "ipython3",
   "version": "3.8.3"
  }
 },
 "nbformat": 4,
 "nbformat_minor": 4
}
